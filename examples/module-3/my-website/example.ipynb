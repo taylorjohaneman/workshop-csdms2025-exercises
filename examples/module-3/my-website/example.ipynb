{
 "cells": [
  {
   "cell_type": "markdown",
   "id": "3b1e9977-24bf-4f79-b44b-38664c9f3790",
   "metadata": {},
   "source": [
    "# I am an example notebook\n",
    "\n",
    "You can render me in a webpage!"
   ]
  },
  {
   "cell_type": "code",
   "execution_count": 1,
   "id": "e5999226-d3c7-412f-8b8f-54bcee2223bd",
   "metadata": {},
   "outputs": [
    {
     "data": {
      "text/plain": [
       "2"
      ]
     },
     "execution_count": 1,
     "metadata": {},
     "output_type": "execute_result"
    }
   ],
   "source": [
    "1 + 1"
   ]
  },
  {
   "cell_type": "markdown",
   "id": "f0795809-5f87-4b07-a341-66d1639bcaa0",
   "metadata": {},
   "source": [
    "## Render an interactive map!"
   ]
  },
  {
   "cell_type": "code",
   "execution_count": 2,
   "id": "d348e3a7-7147-410b-b989-a44cd6c25003",
   "metadata": {},
   "outputs": [
    {
     "data": {
      "text/html": [
       "<div style=\"width:100%;\"><div style=\"position:relative;width:100%;height:0;padding-bottom:60%;\"><span style=\"color:#565656\">Make this Notebook Trusted to load map: File -> Trust Notebook</span><iframe srcdoc=\"&lt;!DOCTYPE html&gt;\n",
       "&lt;html&gt;\n",
       "&lt;head&gt;\n",
       "    \n",
       "    &lt;meta http-equiv=&quot;content-type&quot; content=&quot;text/html; charset=UTF-8&quot; /&gt;\n",
       "    \n",
       "        &lt;script&gt;\n",
       "            L_NO_TOUCH = false;\n",
       "            L_DISABLE_3D = false;\n",
       "        &lt;/script&gt;\n",
       "    \n",
       "    &lt;style&gt;html, body {width: 100%;height: 100%;margin: 0;padding: 0;}&lt;/style&gt;\n",
       "    &lt;style&gt;#map {position:absolute;top:0;bottom:0;right:0;left:0;}&lt;/style&gt;\n",
       "    &lt;script src=&quot;https://cdn.jsdelivr.net/npm/leaflet@1.9.3/dist/leaflet.js&quot;&gt;&lt;/script&gt;\n",
       "    &lt;script src=&quot;https://code.jquery.com/jquery-3.7.1.min.js&quot;&gt;&lt;/script&gt;\n",
       "    &lt;script src=&quot;https://cdn.jsdelivr.net/npm/bootstrap@5.2.2/dist/js/bootstrap.bundle.min.js&quot;&gt;&lt;/script&gt;\n",
       "    &lt;script src=&quot;https://cdnjs.cloudflare.com/ajax/libs/Leaflet.awesome-markers/2.0.2/leaflet.awesome-markers.js&quot;&gt;&lt;/script&gt;\n",
       "    &lt;link rel=&quot;stylesheet&quot; href=&quot;https://cdn.jsdelivr.net/npm/leaflet@1.9.3/dist/leaflet.css&quot;/&gt;\n",
       "    &lt;link rel=&quot;stylesheet&quot; href=&quot;https://cdn.jsdelivr.net/npm/bootstrap@5.2.2/dist/css/bootstrap.min.css&quot;/&gt;\n",
       "    &lt;link rel=&quot;stylesheet&quot; href=&quot;https://netdna.bootstrapcdn.com/bootstrap/3.0.0/css/bootstrap-glyphicons.css&quot;/&gt;\n",
       "    &lt;link rel=&quot;stylesheet&quot; href=&quot;https://cdn.jsdelivr.net/npm/@fortawesome/fontawesome-free@6.2.0/css/all.min.css&quot;/&gt;\n",
       "    &lt;link rel=&quot;stylesheet&quot; href=&quot;https://cdnjs.cloudflare.com/ajax/libs/Leaflet.awesome-markers/2.0.2/leaflet.awesome-markers.css&quot;/&gt;\n",
       "    &lt;link rel=&quot;stylesheet&quot; href=&quot;https://cdn.jsdelivr.net/gh/python-visualization/folium/folium/templates/leaflet.awesome.rotate.min.css&quot;/&gt;\n",
       "    \n",
       "            &lt;meta name=&quot;viewport&quot; content=&quot;width=device-width,\n",
       "                initial-scale=1.0, maximum-scale=1.0, user-scalable=no&quot; /&gt;\n",
       "            &lt;style&gt;\n",
       "                #map_3aa7a9d6228b50079bbd749051993741 {\n",
       "                    position: relative;\n",
       "                    width: 100.0%;\n",
       "                    height: 100.0%;\n",
       "                    left: 0.0%;\n",
       "                    top: 0.0%;\n",
       "                }\n",
       "                .leaflet-container { font-size: 1rem; }\n",
       "            &lt;/style&gt;\n",
       "        \n",
       "&lt;/head&gt;\n",
       "&lt;body&gt;\n",
       "    \n",
       "    \n",
       "            &lt;div class=&quot;folium-map&quot; id=&quot;map_3aa7a9d6228b50079bbd749051993741&quot; &gt;&lt;/div&gt;\n",
       "        \n",
       "&lt;/body&gt;\n",
       "&lt;script&gt;\n",
       "    \n",
       "    \n",
       "            var map_3aa7a9d6228b50079bbd749051993741 = L.map(\n",
       "                &quot;map_3aa7a9d6228b50079bbd749051993741&quot;,\n",
       "                {\n",
       "                    center: [40.00979778909886, -105.24215679549545],\n",
       "                    crs: L.CRS.EPSG3857,\n",
       "                    ...{\n",
       "  &quot;zoom&quot;: 14,\n",
       "  &quot;zoomControl&quot;: true,\n",
       "  &quot;preferCanvas&quot;: false,\n",
       "}\n",
       "\n",
       "                }\n",
       "            );\n",
       "\n",
       "            \n",
       "\n",
       "        \n",
       "    \n",
       "            var tile_layer_dcea88127dd39ba552c22bc3591f6876 = L.tileLayer(\n",
       "                &quot;https://tile.openstreetmap.org/{z}/{x}/{y}.png&quot;,\n",
       "                {\n",
       "  &quot;minZoom&quot;: 0,\n",
       "  &quot;maxZoom&quot;: 19,\n",
       "  &quot;maxNativeZoom&quot;: 19,\n",
       "  &quot;noWrap&quot;: false,\n",
       "  &quot;attribution&quot;: &quot;\\u0026copy; \\u003ca href=\\&quot;https://www.openstreetmap.org/copyright\\&quot;\\u003eOpenStreetMap\\u003c/a\\u003e contributors&quot;,\n",
       "  &quot;subdomains&quot;: &quot;abc&quot;,\n",
       "  &quot;detectRetina&quot;: false,\n",
       "  &quot;tms&quot;: false,\n",
       "  &quot;opacity&quot;: 1,\n",
       "}\n",
       "\n",
       "            );\n",
       "        \n",
       "    \n",
       "            tile_layer_dcea88127dd39ba552c22bc3591f6876.addTo(map_3aa7a9d6228b50079bbd749051993741);\n",
       "        \n",
       "    \n",
       "\n",
       "        function geo_json_fbc69103300120a437ea2f81da29cbed_onEachFeature(feature, layer) {\n",
       "            layer.on({\n",
       "            });\n",
       "        };\n",
       "        var geo_json_fbc69103300120a437ea2f81da29cbed = L.geoJson(null, {\n",
       "                onEachFeature: geo_json_fbc69103300120a437ea2f81da29cbed_onEachFeature,\n",
       "            \n",
       "            ...{\n",
       "}\n",
       "        });\n",
       "\n",
       "        function geo_json_fbc69103300120a437ea2f81da29cbed_add (data) {\n",
       "            geo_json_fbc69103300120a437ea2f81da29cbed\n",
       "                .addData(data);\n",
       "        }\n",
       "            geo_json_fbc69103300120a437ea2f81da29cbed_add({&quot;crs&quot;: {&quot;properties&quot;: {&quot;name&quot;: &quot;urn:ogc:def:crs:OGC:1.3:CRS84&quot;}, &quot;type&quot;: &quot;name&quot;}, &quot;features&quot;: [{&quot;geometry&quot;: {&quot;coordinates&quot;: [-105.24206599999948, 40.01007767367196], &quot;type&quot;: &quot;Point&quot;}, &quot;properties&quot;: {&quot;Address&quot;: &quot;4001 Discovery Dr., Boulder, CO&quot;, &quot;Name&quot;: &quot;Sustainability, Energy, and Environment Community (SEEC) Building&quot;}, &quot;type&quot;: &quot;Feature&quot;}, {&quot;geometry&quot;: {&quot;coordinates&quot;: [-105.25271574468819, 40.01262175838934], &quot;type&quot;: &quot;Point&quot;}, &quot;properties&quot;: {&quot;Address&quot;: &quot;National Snow and Ice Data Center CIRES, 449 UCB University of Colorado Boulder&quot;, &quot;Name&quot;: &quot;National Snow and Ice Data Center (NSIDC)&quot;}, &quot;type&quot;: &quot;Feature&quot;}], &quot;name&quot;: &quot;seec_and_nsidc&quot;, &quot;type&quot;: &quot;FeatureCollection&quot;});\n",
       "        geo_json_fbc69103300120a437ea2f81da29cbed.setStyle(function(feature) {return feature.properties.style;});\n",
       "\n",
       "        \n",
       "    \n",
       "            geo_json_fbc69103300120a437ea2f81da29cbed.addTo(map_3aa7a9d6228b50079bbd749051993741);\n",
       "        \n",
       "&lt;/script&gt;\n",
       "&lt;/html&gt;\" style=\"position:absolute;width:100%;height:100%;left:0;top:0;border:none !important;\" allowfullscreen webkitallowfullscreen mozallowfullscreen></iframe></div></div>"
      ],
      "text/plain": [
       "<folium.folium.Map at 0x7f017bbe0440>"
      ]
     },
     "execution_count": 2,
     "metadata": {},
     "output_type": "execute_result"
    }
   ],
   "source": [
    "import folium\n",
    "\n",
    "m = folium.Map(location=(40.00979778909886, -105.24215679549545), zoom_start=14)\n",
    "folium.GeoJson(\"seec_and_nsidc.geojson\").add_to(m)\n",
    "m"
   ]
  },
  {
   "cell_type": "markdown",
   "id": "e3e54415-dc6d-4ffe-ade3-18268935ff2b",
   "metadata": {},
   "source": [
    "## [... wat](https://www.youtube.com/watch?v=mRPU3l54Z7I)\n",
    "\n",
    "😁"
   ]
  },
  {
   "cell_type": "code",
   "execution_count": 3,
   "id": "ad3cdc01-37d1-4e49-a517-cca697028497",
   "metadata": {},
   "outputs": [
    {
     "data": {
      "text/plain": [
       "True"
      ]
     },
     "execution_count": 3,
     "metadata": {},
     "output_type": "execute_result"
    }
   ],
   "source": [
    "False == False in [False]"
   ]
  }
 ],
 "metadata": {
  "kernelspec": {
   "display_name": "Python 3 (ipykernel)",
   "language": "python",
   "name": "python3"
  },
  "language_info": {
   "codemirror_mode": {
    "name": "ipython",
    "version": 3
   },
   "file_extension": ".py",
   "mimetype": "text/x-python",
   "name": "python",
   "nbconvert_exporter": "python",
   "pygments_lexer": "ipython3",
   "version": "3.13.3"
  }
 },
 "nbformat": 4,
 "nbformat_minor": 5
}
